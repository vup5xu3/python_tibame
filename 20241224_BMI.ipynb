{
  "nbformat": 4,
  "nbformat_minor": 0,
  "metadata": {
    "colab": {
      "provenance": [],
      "toc_visible": true,
      "authorship_tag": "ABX9TyM2jNIqxC7BE4ft+qbiI1Or",
      "include_colab_link": true
    },
    "kernelspec": {
      "name": "python3",
      "display_name": "Python 3"
    },
    "language_info": {
      "name": "python"
    }
  },
  "cells": [
    {
      "cell_type": "markdown",
      "metadata": {
        "id": "view-in-github",
        "colab_type": "text"
      },
      "source": [
        "<a href=\"https://colab.research.google.com/github/vup5xu3/python_tibame/blob/main/20241224_BMI.ipynb\" target=\"_parent\"><img src=\"https://colab.research.google.com/assets/colab-badge.svg\" alt=\"Open In Colab\"/></a>"
      ]
    },
    {
      "cell_type": "markdown",
      "source": [
        "###第一個程式：BMI\n",
        "  - 使用者自行輸入身高,體重\n",
        "  - 計算值\n",
        "  - 給予建議\n",
        "---\n",
        "\n",
        "###學習到\n",
        "  - 註解－\"共學重要的：**可讀性**\"\n",
        "    - \"\"\" and #\n",
        "  - 列印 with 參數 print(參數)\n",
        "  - 排版很重要(縮排 空白)，閱讀舒適度(可參考pep style guide)\n",
        "  - **不要重複寫**，會忘記改；善用等號\"**=**\"\n",
        "    - x = 3 (取代)\n",
        "    - 5 == 2 + 3 (相等)\n",
        "  - 型態(Type): int(), float(), str()\n",
        "  - 如果...否則... (if...else...)\n",
        "  - 使用者輸入－input(參數)\n",
        "  - 回傳值－執行後丟回的\"新\"答案，**要確認型態**\n",
        "    - a = input()\n",
        "    - **type(a)**"
      ],
      "metadata": {
        "id": "pvYLB_o9l0le"
      }
    },
    {
      "cell_type": "code",
      "execution_count": 4,
      "metadata": {
        "colab": {
          "base_uri": "https://localhost:8080/"
        },
        "id": "PnEEO2Rwa1D6",
        "outputId": "ca95f7ae-b249-41a8-be14-6bb303089e7e"
      },
      "outputs": [
        {
          "output_type": "stream",
          "name": "stdout",
          "text": [
            "請輸入您的體重(kg): 65\n",
            "請輸入您的身高(cm): 165.4\n",
            "\n",
            "您輸入的體重(kg)是: 65.0\n",
            "您輸入的身高(m)是: 1.6540000000000001367794766338192857801914215087890625\n",
            "\n",
            "您的BMI值為(kg/m^2): 23.759776234082775\n",
            "你很棒! 請繼續維持!!!\n"
          ]
        }
      ],
      "source": [
        "# BMI = 體重(kg) / 身高(m)^2\n",
        "\n",
        "## 使用者輸入體重, 身高\n",
        "weight = float(input(\"請輸入您的體重(kg): \"))\n",
        "height = float(input(\"請輸入您的身高(cm): \")) / 100\n",
        "\n",
        "## 計算\n",
        "bmi = weight / height**2\n",
        "\n",
        "## 結果\n",
        "print(\"\\n\"+\"您輸入的體重(kg)是: \" + str(weight))\n",
        "print(\"您輸入的身高(m)是: \" + str(height) + \"\\n\")\n",
        "print(\"您的BMI值為(kg/m^2): \"+ str(bmi))\n",
        "\n",
        "## 建議\n",
        "### BMI應維持在18.5（kg/㎡）及24（kg/㎡）之間，太瘦、過重或太胖皆有礙健康\n",
        "if bmi < 18.5:\n",
        "  print(\"太瘦囉! 多吃點吧!!!!\")\n",
        "elif bmi > 24:\n",
        "  print(\"過重囉! 少吃多動好健康!!!\")\n",
        "else:\n",
        "  print(\"你很棒! 請繼續維持!!!\")"
      ]
    },
    {
      "cell_type": "markdown",
      "source": [
        "# 第二個程式：\n",
        "  -\n",
        "\n",
        "---\n",
        "# 學習到\n",
        "  -\n"
      ],
      "metadata": {
        "id": "jlcIFO9jTPvI"
      }
    }
  ]
}
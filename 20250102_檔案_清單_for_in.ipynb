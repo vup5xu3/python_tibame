{
  "nbformat": 4,
  "nbformat_minor": 0,
  "metadata": {
    "colab": {
      "provenance": [],
      "toc_visible": true,
      "authorship_tag": "ABX9TyNkw5D0awZXVtYXYVEqcU8k",
      "include_colab_link": true
    },
    "kernelspec": {
      "name": "python3",
      "display_name": "Python 3"
    },
    "language_info": {
      "name": "python"
    }
  },
  "cells": [
    {
      "cell_type": "markdown",
      "metadata": {
        "id": "view-in-github",
        "colab_type": "text"
      },
      "source": [
        "<a href=\"https://colab.research.google.com/github/vup5xu3/python_tibame/blob/main/20250102_%E6%AA%94%E6%A1%88_%E6%B8%85%E5%96%AE_for_in.ipynb\" target=\"_parent\"><img src=\"https://colab.research.google.com/assets/colab-badge.svg\" alt=\"Open In Colab\"/></a>"
      ]
    },
    {
      "cell_type": "markdown",
      "source": [
        "### 檔案 - [讀取與寫入](https://docs.python.org/3/library/functions.html#open)\n",
        "  - 讀取寫入之前，掀開檔案 open()\n",
        "  ```pytohn\n",
        "  open(file, mode='r', buffering=-1, encoding=None, errors=None, newline=None, closefd=True, opener=None)\n",
        "  ```\n",
        "    - encoding='utf-8' 一律這樣設定\n",
        "      - 不然可能會使用系統預設編碼(ANSI 美國標準) 有可能會有亂碼\n",
        "  - 檔案的專屬功能\n",
        "    - 檔案.write(\"XXX\") ->寫入\n",
        "    - 檔案.read() ->讀取\n",
        "    - 檔案.close() ->關檔 = 存檔\n",
        "  - 絕對路徑 與 相對路徑\n",
        "    - 寫程式最好是寫相對路徑\n",
        "  "
      ],
      "metadata": {
        "id": "rDLdy5CYuX9N"
      }
    },
    {
      "cell_type": "code",
      "execution_count": 10,
      "metadata": {
        "colab": {
          "base_uri": "https://localhost:8080/"
        },
        "id": "rXSYm-FwuVTy",
        "outputId": "40c5ad91-c0a1-4415-9b50-b1694f03187a"
      },
      "outputs": [
        {
          "output_type": "stream",
          "name": "stdout",
          "text": [
            "88\n",
            "86.14\n",
            "106.14\n",
            "56.14\n"
          ]
        }
      ],
      "source": [
        "## 當一個參數開始有預設值，後面的參數就都要預設值\n",
        "### n3 一定要有預設值\n",
        "def add(n1, n2=3.14, n3=20, n4=60):\n",
        "  ans = n1 + n2 + n3 + n4\n",
        "  return ans\n",
        "\n",
        "result = add(3,5)\n",
        "print(result)\n",
        "print(add(3))\n",
        "print(add(3, n3=40))\n",
        "## 要跳過 就要指定\n",
        "print(add(3, n3=40, n4=10))\n",
        "## 一樣，當一個參數開始指定，後面的參數就要指定"
      ]
    },
    {
      "cell_type": "code",
      "source": [
        "## open(file, mode='r', buffering=-1, encoding=None, errors=None, newline=None, closefd=True, opener=None)\n",
        "\n",
        "## 1.開 寫 關\n",
        "f = open(\"a.txt\",\"w\",encoding=\"utf-8\")\n",
        "# type(f) 檔案型態\n",
        "\n",
        "## 檔案型態的專屬功能\n",
        "f.write(\"AAAA\")\n",
        "## 打不出換行或tab，要用組合符號 \\n \\t\n",
        "f.write(\" \\nBBBB \\t TTT\")\n",
        "\n",
        "f.close()"
      ],
      "metadata": {
        "id": "ieDJURtUxX8P"
      },
      "execution_count": 11,
      "outputs": []
    },
    {
      "cell_type": "code",
      "source": [
        "## 2.開 讀 關\n",
        "### 檔案路徑的斜線要注意方向 /\n",
        "f = open(\"sample_data/README.md\",\"r\",encoding=\"utf-8\")\n",
        "\n",
        "## 把讀出來的資料存起來\n",
        "content = f.read()\n",
        "print(content)\n",
        "\n",
        "f.close()"
      ],
      "metadata": {
        "colab": {
          "base_uri": "https://localhost:8080/"
        },
        "id": "NE-E4U7s2aqK",
        "outputId": "628e507c-533d-43c1-97c9-09864c9cacd7"
      },
      "execution_count": 14,
      "outputs": [
        {
          "output_type": "stream",
          "name": "stdout",
          "text": [
            "This directory includes a few sample datasets to get you started.\n",
            "\n",
            "*   `california_housing_data*.csv` is California housing data from the 1990 US\n",
            "    Census; more information is available at:\n",
            "    https://docs.google.com/document/d/e/2PACX-1vRhYtsvc5eOR2FWNCwaBiKL6suIOrxJig8LcSBbmCbyYsayia_DvPOOBlXZ4CAlQ5nlDD8kTaIDRwrN/pub\n",
            "\n",
            "*   `mnist_*.csv` is a small sample of the\n",
            "    [MNIST database](https://en.wikipedia.org/wiki/MNIST_database), which is\n",
            "    described at: http://yann.lecun.com/exdb/mnist/\n",
            "\n",
            "*   `anscombe.json` contains a copy of\n",
            "    [Anscombe's quartet](https://en.wikipedia.org/wiki/Anscombe%27s_quartet); it\n",
            "    was originally described in\n",
            "\n",
            "    Anscombe, F. J. (1973). 'Graphs in Statistical Analysis'. American\n",
            "    Statistician. 27 (1): 17-21. JSTOR 2682899.\n",
            "\n",
            "    and our copy was prepared by the\n",
            "    [vega_datasets library](https://github.com/altair-viz/vega_datasets/blob/4f67bdaad10f45e3549984e17e1b3088c731503d/vega_datasets/_data/anscombe.json).\n",
            "\n"
          ]
        }
      ]
    },
    {
      "cell_type": "code",
      "source": [
        "## 不太需要用\n",
        "print(\"abcd\\tfgh\")  ## \\t = tab\n",
        "print(r\"abcd\\tfgh\") ## 字串前面加r 就是不做字串的轉換\n",
        "print(\"abcd\\\\fgh\") ## \\\\ = \\\n",
        "print(\"abcd\\\\fgh\")"
      ],
      "metadata": {
        "colab": {
          "base_uri": "https://localhost:8080/"
        },
        "id": "0zLR8BYt30__",
        "outputId": "90b9ebc9-8d38-4fd2-80dc-c0dc134fa87a"
      },
      "execution_count": 17,
      "outputs": [
        {
          "output_type": "stream",
          "name": "stdout",
          "text": [
            "abcd\tfgh\n",
            "abcd\\tfgh\n",
            "abcd\\fgh\n"
          ]
        }
      ]
    },
    {
      "cell_type": "markdown",
      "source": [
        "### List 操作\n",
        "  - 一般查詢、設定\n",
        "    - 查詢: list[key]\n",
        "    - 設定: list[key] = 30\n",
        "    - sum(list), min(list), max(list), len(list)\n",
        "  - 查詢進階\n",
        "    - 反向key\n",
        "      - index: [0,1,2,3] -> [-4,-3,-2,-1]\n",
        "    - 查詢一段\n",
        "      - list[開始key:結束key] 不包含後綴\n",
        "    - 查詢一段 且用跳的，跳的正負決定順序\n",
        "      - list[開始:結束:幾個一跳]\n",
        "    - !!要記得!! -- **[0] [-1] [::-1]**"
      ],
      "metadata": {
        "id": "x9nswHig8fiG"
      }
    },
    {
      "cell_type": "code",
      "source": [
        "scores = [12,56,87,35,70,73,28,34,46,68,53]\n",
        "\n",
        "print(sum(scores), min(scores), max(scores), len(scores))\n",
        "print(60 in scores)\n",
        "\n",
        "print(scores[2])\n",
        "print(scores[-1])\n",
        "\n",
        "# 取list中一段的值 回傳值是list型態\n",
        "print(scores[1:4]) # 不包含[4]\n",
        "print(scores[1:-1]) # 不包含[-1]\n",
        "print(scores[:-1]) # 從頭到-1的前一個\n",
        "print(scores[2:]) # 從第二個到最後\n",
        "\n",
        "# 取的順序 間隔\n",
        "print(scores[::2]) # 取基數位置\n",
        "print(scores[1::2]) # 取偶數位置\n",
        "print(scores[::-1]) # 倒過來"
      ],
      "metadata": {
        "colab": {
          "base_uri": "https://localhost:8080/"
        },
        "id": "Gi8Y-94s81AC",
        "outputId": "6322ee05-c91d-4f1e-9864-821e7df4b2ad"
      },
      "execution_count": 30,
      "outputs": [
        {
          "output_type": "stream",
          "name": "stdout",
          "text": [
            "562 12 87 11\n",
            "False\n",
            "87\n",
            "53\n",
            "[56, 87, 35]\n",
            "[56, 87, 35, 70, 73, 28, 34, 46, 68]\n",
            "[12, 56, 87, 35, 70, 73, 28, 34, 46, 68]\n",
            "[87, 35, 70, 73, 28, 34, 46, 68, 53]\n",
            "[12, 87, 70, 28, 46, 53]\n",
            "[56, 35, 73, 34, 68]\n",
            "[53, 68, 46, 34, 28, 73, 70, 35, 87, 56, 12]\n"
          ]
        }
      ]
    },
    {
      "cell_type": "markdown",
      "source": [
        "### For in 語法\n",
        "  - for 名稱 in 群:\n",
        "    - for...in 會幫妳把這群裡面的東西一個一個拿給妳\n",
        "      - *當今天Key不是0123這樣的順序，用while就不適合*\n",
        "  - range(次)\n",
        "    - range(5) -> [0,1,2,3,4]\n",
        "    - range(2:4) -> [2,3,4]\n",
        "    - range(1:5:2) -> [1,3]\n"
      ],
      "metadata": {
        "id": "MygxFodVEg7P"
      }
    },
    {
      "cell_type": "code",
      "source": [
        "## 確認及格人數 while\n",
        "scores = [12,56,87,35,70,73,28,34,46,68,53]\n",
        "\n",
        "total = 0\n",
        "\n",
        "i = 0\n",
        "while i < len(scores):\n",
        "  if scores[i] >= 60:\n",
        "    total = total +1\n",
        "    print(scores[i])\n",
        "  i = i + 1\n",
        "\n",
        "print(\"及格的人有 \",total, \" 個\")"
      ],
      "metadata": {
        "colab": {
          "base_uri": "https://localhost:8080/"
        },
        "id": "jD3Xzv67C18h",
        "outputId": "5dca3a2e-861f-4853-bc9f-92e522db8a94"
      },
      "execution_count": 38,
      "outputs": [
        {
          "output_type": "stream",
          "name": "stdout",
          "text": [
            "87\n",
            "70\n",
            "73\n",
            "68\n",
            "及格的人有  4  個\n"
          ]
        }
      ]
    },
    {
      "cell_type": "code",
      "source": [
        "## 確認及格人數 for in\n",
        "## 當今天Key不是0123這樣的順序，用while就不適合\n",
        "\n",
        "scores = [12,56,87,35,70,73,28,34,46,68,53]\n",
        "\n",
        "total = 0\n",
        "\n",
        "for num in scores:\n",
        "  if num >= 60:\n",
        "    total = total +1\n",
        "    print(num)\n",
        "\n",
        "print(\"及格的人有 \",total, \" 個\")"
      ],
      "metadata": {
        "colab": {
          "base_uri": "https://localhost:8080/"
        },
        "id": "Et-GsiUjDq_l",
        "outputId": "72265b95-e6c7-48be-baf3-03a005f55863"
      },
      "execution_count": 41,
      "outputs": [
        {
          "output_type": "stream",
          "name": "stdout",
          "text": [
            "87\n",
            "70\n",
            "73\n",
            "68\n",
            "及格的人有  4  個\n"
          ]
        }
      ]
    },
    {
      "cell_type": "code",
      "source": [
        "## 1 + 2 + 3 +..10\n",
        "\n",
        "## while\n",
        "total = 0\n",
        "i = 0\n",
        "\n",
        "while i < 10:\n",
        "  total = total + (i+1)\n",
        "  print(total)\n",
        "  i = i + 1\n",
        "print(\"lst: \",total)"
      ],
      "metadata": {
        "colab": {
          "base_uri": "https://localhost:8080/"
        },
        "id": "b1YW6W-3FozZ",
        "outputId": "6623d0b1-ed16-4fb1-fc36-5d520f66392a"
      },
      "execution_count": 49,
      "outputs": [
        {
          "output_type": "stream",
          "name": "stdout",
          "text": [
            "1\n",
            "3\n",
            "6\n",
            "10\n",
            "15\n",
            "21\n",
            "28\n",
            "36\n",
            "45\n",
            "55\n",
            "lst:  55\n"
          ]
        }
      ]
    },
    {
      "cell_type": "code",
      "source": [
        "## 1 + 2 + 3 +..10\n",
        "\n",
        "## for in\n",
        "## range 次數的概念\n",
        "num = 0\n",
        "for i in range(10):\n",
        "  num = num + (i + 1)\n",
        "  print(num)\n",
        "print(\"lst: \",num)"
      ],
      "metadata": {
        "colab": {
          "base_uri": "https://localhost:8080/"
        },
        "id": "nnEiPBzEHihj",
        "outputId": "7cb32ff9-f6bf-4f36-aeee-f22c970b388a"
      },
      "execution_count": 48,
      "outputs": [
        {
          "output_type": "stream",
          "name": "stdout",
          "text": [
            "1\n",
            "3\n",
            "6\n",
            "10\n",
            "15\n",
            "21\n",
            "28\n",
            "36\n",
            "45\n",
            "55\n",
            "lst 55\n"
          ]
        }
      ]
    },
    {
      "cell_type": "markdown",
      "source": [
        "## ！！！迴圈SOP ！！！\n",
        "  - 次數型的:\n",
        "    ```python\n",
        "    for i in range(次):\n",
        "    ```\n",
        "  - 走做字串/list:\n",
        "    ```python\n",
        "    for 名稱 in 群:\n",
        "      ```\n",
        "  - 其他條件:\n",
        "    ```python\n",
        "    while True + break\n",
        "    ```"
      ],
      "metadata": {
        "id": "EULchmNIH-b2"
      }
    }
  ]
}
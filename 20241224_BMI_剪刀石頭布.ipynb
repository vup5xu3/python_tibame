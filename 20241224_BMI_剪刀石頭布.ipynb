{
  "nbformat": 4,
  "nbformat_minor": 0,
  "metadata": {
    "colab": {
      "provenance": [],
      "toc_visible": true,
      "authorship_tag": "ABX9TyMYalVeoHyPtRklCpI9XIXd",
      "include_colab_link": true
    },
    "kernelspec": {
      "name": "python3",
      "display_name": "Python 3"
    },
    "language_info": {
      "name": "python"
    }
  },
  "cells": [
    {
      "cell_type": "markdown",
      "metadata": {
        "id": "view-in-github",
        "colab_type": "text"
      },
      "source": [
        "<a href=\"https://colab.research.google.com/github/vup5xu3/python_tibame/blob/main/20241224_BMI_%E5%89%AA%E5%88%80%E7%9F%B3%E9%A0%AD%E5%B8%83.ipynb\" target=\"_parent\"><img src=\"https://colab.research.google.com/assets/colab-badge.svg\" alt=\"Open In Colab\"/></a>"
      ]
    },
    {
      "cell_type": "markdown",
      "source": [
        "###第一個程式：BMI\n",
        "  - 使用者自行輸入身高,體重\n",
        "  - 計算值\n",
        "  - 給予建議\n",
        "---\n",
        "\n",
        "###學習到\n",
        "  - 註解－\"共學重要的：**可讀性**\"\n",
        "    - \"\"\" and #\n",
        "  - 列印 with 參數 print(參數)\n",
        "  - 排版很重要(縮排 空白)，閱讀舒適度(可參考pep style guide)\n",
        "  - **不要重複寫**，會忘記改；善用等號\"**=**\"\n",
        "    - x = 3 (取代)\n",
        "    - 5 == 2 + 3 (相等)\n",
        "  - 型態(Type): int(), float(), str()\n",
        "  - 如果...否則... (if...else...)\n",
        "  - 使用者輸入－input(參數)\n",
        "  - 回傳值－執行後丟回的\"新\"答案，**要確認型態**\n",
        "    - a = input()\n",
        "    - **type(a)**"
      ],
      "metadata": {
        "id": "pvYLB_o9l0le"
      }
    },
    {
      "cell_type": "code",
      "execution_count": 6,
      "metadata": {
        "colab": {
          "base_uri": "https://localhost:8080/"
        },
        "id": "PnEEO2Rwa1D6",
        "outputId": "eafb5177-eea3-42be-ea98-ea4e69f97d9c"
      },
      "outputs": [
        {
          "output_type": "stream",
          "name": "stdout",
          "text": [
            "請輸入您的體重(kg): 54\n",
            "請輸入您的身高(cm): 165.4\n",
            "\n",
            "您輸入的體重(kg)是: 54.00\n",
            "您輸入的身高(m)是: 1.65\n",
            "\n",
            "您的BMI值為(kg/m^2):19.74\n",
            "你很棒! 請繼續維持!!!\n"
          ]
        }
      ],
      "source": [
        "# BMI = 體重(kg) / 身高(m)^2\n",
        "\n",
        "## 使用者輸入體重, 身高\n",
        "weight = float(input(\"請輸入您的體重(kg): \"))\n",
        "height = float(input(\"請輸入您的身高(cm): \")) / 100\n",
        "\n",
        "## 計算\n",
        "bmi = weight / height**2\n",
        "\n",
        "## 結果\n",
        "print(\"\\n\"+\"您輸入的體重(kg)是: {:.2f}\".format(weight))\n",
        "print(\"您輸入的身高(m)是: {:.2f}\".format(height) + \"\\n\")\n",
        "print(\"您的BMI值為(kg/m^2):{:.2f}\".format(bmi))\n",
        "\n",
        "## 建議\n",
        "### BMI應維持在18.5（kg/㎡）及24（kg/㎡）之間，太瘦、過重或太胖皆有礙健康\n",
        "if bmi < 18.5:\n",
        "  print(\"太瘦囉! 多吃點吧!!!!\")\n",
        "elif bmi > 24:\n",
        "  print(\"過重囉! 少吃多動好健康!!!\")\n",
        "else:\n",
        "  print(\"你很棒! 請繼續維持!!!\")"
      ]
    },
    {
      "cell_type": "markdown",
      "source": [
        "# 第二個程式：剪刀 石頭 布\n",
        "  \n",
        "  1. 想邏輯，想比寫重要:\n",
        "    - 輸-贏-平\n",
        "      - (3X3) 剪刀 < 石頭 < 布；布 < 剪刀\n",
        "    - 擴充 4X4 棒打老虎雞吃蟲，棒雞平\n",
        "      - 多了平一種平手關係\n",
        "    - **輸贏發生在上下關係，沒有輸贏就是平**\n",
        "  2. 想細節\n",
        "    - 大小上下關係，怎麼呈現: 整數(從0開始)\n",
        "    - 使用者輸入整數，較不會錯\n",
        "    \n",
        "\n",
        "---\n",
        "# 學習到\n",
        "  - list\n",
        "  - random: [偽隨機](https://docs.python.org/zh-tw/3/library/random.html)\n",
        "    - 引用這個 .py 的程式 **import**\n",
        "    \n"
      ],
      "metadata": {
        "id": "jlcIFO9jTPvI"
      }
    },
    {
      "cell_type": "code",
      "source": [
        "# 剪刀石頭布\n",
        "import random\n",
        "\n",
        "## 定義\n",
        "alist = [\"剪刀\",\"石頭\",\"布\"]\n",
        "\n",
        "## 使用者輸入\n",
        "userI = int(input(\"請出拳：0.剪刀 1.石頭 2.布: \"))\n",
        "\n",
        "## 電腦出拳\n",
        "compO = random.randint(0,2)\n",
        "\n",
        "## 轉換\n",
        "print(\"我出的是: \",alist[userI])\n",
        "print(\"電腦出的是\",alist[compO])\n",
        "\n"
      ],
      "metadata": {
        "colab": {
          "base_uri": "https://localhost:8080/"
        },
        "id": "9heKO05pWNRK",
        "outputId": "1c96bd01-afe1-486d-e4bc-586eb81853a8"
      },
      "execution_count": 8,
      "outputs": [
        {
          "output_type": "stream",
          "name": "stdout",
          "text": [
            "請出拳：0.剪刀 1.石頭 2.布2\n",
            "我出的是:  布\n",
            "電腦出的是 布\n"
          ]
        }
      ]
    }
  ]
}
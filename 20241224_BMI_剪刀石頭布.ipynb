{
  "nbformat": 4,
  "nbformat_minor": 0,
  "metadata": {
    "colab": {
      "provenance": [],
      "authorship_tag": "ABX9TyMtYeyxwjNAod4U6mWMnARf",
      "include_colab_link": true
    },
    "kernelspec": {
      "name": "python3",
      "display_name": "Python 3"
    },
    "language_info": {
      "name": "python"
    }
  },
  "cells": [
    {
      "cell_type": "markdown",
      "metadata": {
        "id": "view-in-github",
        "colab_type": "text"
      },
      "source": [
        "<a href=\"https://colab.research.google.com/github/vup5xu3/python_tibame/blob/main/20241224_BMI_%E5%89%AA%E5%88%80%E7%9F%B3%E9%A0%AD%E5%B8%83.ipynb\" target=\"_parent\"><img src=\"https://colab.research.google.com/assets/colab-badge.svg\" alt=\"Open In Colab\"/></a>"
      ]
    },
    {
      "cell_type": "markdown",
      "source": [
        "###第一個程式：BMI\n",
        "  - 使用者自行輸入身高,體重\n",
        "  - 計算值\n",
        "  - 給予建議\n",
        "---\n",
        "\n",
        "###學習到\n",
        "  - 註解－\"共學重要的：**可讀性**\"\n",
        "    - \"\"\" and #\n",
        "  - 列印 with 參數 print(參數)\n",
        "  - 排版很重要(縮排 空白)，閱讀舒適度(可參考pep style guide)\n",
        "  - **不要重複寫**，會忘記改；善用等號\"**=**\"\n",
        "    - x = 3 (取代)\n",
        "    - 5 == 2 + 3 (相等)\n",
        "  - 型態(Type): int(), float(), str()\n",
        "  - 如果...否則... (if...else...)\n",
        "  - 使用者輸入－input(參數)\n",
        "  - 回傳值－執行後丟回的\"新\"答案，**要確認型態**\n",
        "    - a = input()\n",
        "    - **type(a)**"
      ],
      "metadata": {
        "id": "pvYLB_o9l0le"
      }
    },
    {
      "cell_type": "code",
      "execution_count": null,
      "metadata": {
        "colab": {
          "base_uri": "https://localhost:8080/"
        },
        "id": "PnEEO2Rwa1D6",
        "outputId": "eafb5177-eea3-42be-ea98-ea4e69f97d9c"
      },
      "outputs": [
        {
          "output_type": "stream",
          "name": "stdout",
          "text": [
            "請輸入您的體重(kg): 54\n",
            "請輸入您的身高(cm): 165.4\n",
            "\n",
            "您輸入的體重(kg)是: 54.00\n",
            "您輸入的身高(m)是: 1.65\n",
            "\n",
            "您的BMI值為(kg/m^2):19.74\n",
            "你很棒! 請繼續維持!!!\n"
          ]
        }
      ],
      "source": [
        "# BMI = 體重(kg) / 身高(m)^2\n",
        "\n",
        "## 使用者輸入體重, 身高\n",
        "weight = float(input(\"請輸入您的體重(kg): \"))\n",
        "height = float(input(\"請輸入您的身高(cm): \")) / 100\n",
        "\n",
        "## 計算\n",
        "bmi = weight / height**2\n",
        "\n",
        "## 結果\n",
        "print(\"\\n\"+\"您輸入的體重(kg)是: {:.2f}\".format(weight))\n",
        "print(\"您輸入的身高(m)是: {:.2f}\".format(height) + \"\\n\")\n",
        "print(\"您的BMI值為(kg/m^2):{:.2f}\".format(bmi))\n",
        "\n",
        "## 建議\n",
        "### BMI應維持在18.5（kg/㎡）及24（kg/㎡）之間，太瘦、過重或太胖皆有礙健康\n",
        "if bmi < 18.5:\n",
        "  print(\"太瘦囉! 多吃點吧!!!!\")\n",
        "elif bmi > 24:\n",
        "  print(\"過重囉! 少吃多動好健康!!!\")\n",
        "else:\n",
        "  print(\"你很棒! 請繼續維持!!!\")"
      ]
    },
    {
      "cell_type": "markdown",
      "source": [
        "### 第二個程式：剪刀 石頭 布\n",
        "  \n",
        "  1. 想邏輯，想比寫重要:\n",
        "    - 輸-贏-平\n",
        "      - (3X3) 剪刀 < 石頭 < 布；布 < 剪刀\n",
        "    - 擴充 4X4 棒打老虎雞吃蟲，棒雞平\n",
        "      - 多了平一種平手關係\n",
        "    - **輸贏發生在上下關係，沒有輸贏就是平**\n",
        "  2. 想細節\n",
        "    - 大小上下關係，怎麼呈現: 整數(從0開始)\n",
        "    - 使用者輸入整數，較不會錯\n",
        "    \n",
        "\n",
        "---\n",
        "### 學習到\n",
        "  - list [\"剪刀\",\"石頭\",\"布\"]\n",
        "    - key(index) and value\n",
        "    - alist[1] = \"石頭\"\n",
        "  - random: [偽隨機](https://docs.python.org/zh-tw/3/library/random.html)\n",
        "    - 引用這個 .py 的程式 **import**\n",
        "  - import\n",
        "    - 不管事python內建的還是自己寫的都要import\n",
        "    - 除了 內建的 [built in](https://docs.python.org/3/library/functions.html) 的\n",
        "  - 數字循環概念 mod 取餘數\n"
      ],
      "metadata": {
        "id": "jlcIFO9jTPvI"
      }
    },
    {
      "cell_type": "code",
      "source": [
        "# 剪刀石頭布\n",
        "\n",
        "## 引用亂數.py\n",
        "import random\n",
        "\n",
        "## 定義list\n",
        "alist = [\"剪刀\",\"石頭\",\"布\"]\n",
        "\n",
        "## 使用者輸入\n",
        "userI = int(input(\"請出拳：0.剪刀 1.石頭 2.布: \"))\n",
        "## 電腦出拳\n",
        "compO = random.randint(0,2)\n",
        "\n",
        "## 判斷輸贏 否則平\n",
        "## 剪刀0 < 石頭1 < 布2；循環: 布 < 剪刀\n",
        "## 012 > 012 用 mod 3 (%3)\n",
        "\n",
        "if userI == (compO+1) % 3:\n",
        "  result =\"您贏了!\"\n",
        "elif compO == (userI+1) % 3:\n",
        "  result = \"您輸了!\"\n",
        "else:\n",
        "  result = \"平手!!!\"\n",
        "\n",
        "## 結果輸出\n",
        "print()\n",
        "print(\"我出的是: \",alist[userI]) ## 轉換\n",
        "print(\"電腦出的是\",alist[compO] + \"\\n\")\n",
        "print(result)"
      ],
      "metadata": {
        "colab": {
          "base_uri": "https://localhost:8080/"
        },
        "id": "9heKO05pWNRK",
        "outputId": "645701a3-889f-4725-a91f-6bafebbb23ae"
      },
      "execution_count": null,
      "outputs": [
        {
          "output_type": "stream",
          "name": "stdout",
          "text": [
            "請出拳：0.剪刀 1.石頭 2.布: 2\n",
            "\n",
            "我出的是:  布\n",
            "電腦出的是 布\n",
            "\n",
            "平手!!!\n"
          ]
        }
      ]
    },
    {
      "cell_type": "markdown",
      "source": [
        "###作業: 六種拳\n",
        "拳: 0<1<2 (循環2<0), 3<4<5 (循環5<3)\n",
        "  - 思考: 不同組就平手\n",
        "  - 取商數用來分組(//)，取餘數用來循環(%%)\n",
        "  - 兩組簡化成一組來判斷\n",
        "\n",
        "![Snipaste_2024-12-24_16-31-04.png](data:image/png;base64,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)\n",
        "\n"
      ],
      "metadata": {
        "id": "XsRPnolWse6l"
      }
    },
    {
      "cell_type": "code",
      "source": [
        "# 剪刀石頭布\n",
        "\n",
        "## 引用亂數.py\n",
        "import random\n",
        "\n",
        "## 定義list: 翻譯清單1-5 翻成中文\n",
        "alist = [\"剪刀(0)\",\"石頭(0)\",\"布(0)\",\n",
        "     \"剪刀(1)\",\"石頭(1)\",\"布(1)\"]\n",
        "\n",
        "## 使用者輸入 0-5\n",
        "userI = int(input(\"請出拳 0-5: \"))\n",
        "## 電腦出拳 0-5\n",
        "compO = random.randint(0,5)\n",
        "\n",
        "\n",
        "## 先確定是否同組，把商=0,商=1分開來\n",
        "if userI // 3 == compO // 3: #### 同組\n",
        "  ## 兩組要做相同處理: 把3-5也變成0-2 減3 (%3 也可)\n",
        "  ##__if userI // 3 == 1:\n",
        "    ##__userI,compO = userI-3,compO-3\n",
        "  userI, compO = userI % 3, compO % 3\n",
        "\n",
        "  ## 判斷囉\n",
        "  if userI == (compO+1) % 3:\n",
        "    result =\"您贏了!\"\n",
        "  elif compO == (userI+1) % 3:\n",
        "    result = \"您輸了!\"\n",
        "  else:\n",
        "    result = \"平手!!!\"\n",
        "\n",
        "else: #### 不同組\n",
        "  result = \"不同組，平手!!!\"\n",
        "\n",
        "## 結果輸出\n",
        "print()\n",
        "print(\"我出的是: \",alist[userI]) ## 轉換\n",
        "print(\"電腦出的是: \",alist[compO] + \"\\n\")\n",
        "print(result)"
      ],
      "metadata": {
        "colab": {
          "base_uri": "https://localhost:8080/"
        },
        "id": "9ZRA2CTZtY61",
        "outputId": "a79c7331-1080-4a75-db67-d5118ae9f0c9"
      },
      "execution_count": null,
      "outputs": [
        {
          "output_type": "stream",
          "name": "stdout",
          "text": [
            "請出拳 0-5: 2\n",
            "\n",
            "我出的是:  布(0)\n",
            "電腦出的是:  布(1)\n",
            "\n",
            "平手!!!\n"
          ]
        }
      ]
    }
  ]
}
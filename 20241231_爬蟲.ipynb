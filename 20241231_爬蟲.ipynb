{
  "nbformat": 4,
  "nbformat_minor": 0,
  "metadata": {
    "colab": {
      "provenance": [],
      "authorship_tag": "ABX9TyPFZEcwJx6LADxBQED2Rxpm",
      "include_colab_link": true
    },
    "kernelspec": {
      "name": "python3",
      "display_name": "Python 3"
    },
    "language_info": {
      "name": "python"
    }
  },
  "cells": [
    {
      "cell_type": "markdown",
      "metadata": {
        "id": "view-in-github",
        "colab_type": "text"
      },
      "source": [
        "<a href=\"https://colab.research.google.com/github/vup5xu3/python_tibame/blob/main/20241231_%E7%88%AC%E8%9F%B2.ipynb\" target=\"_parent\"><img src=\"https://colab.research.google.com/assets/colab-badge.svg\" alt=\"Open In Colab\"/></a>"
      ]
    },
    {
      "cell_type": "markdown",
      "source": [
        "### 認識網路\n",
        "  - 電腦溝通\n",
        "    local --request--> Server\n",
        "    Server --response--> local\n",
        "    - request = url\n",
        "    - response = url/pdf/doc/mp3/mp4..\n",
        "  - 爬蟲思維\n",
        "    - 反向:看到答案後，想要反查問題\n",
        "    - 一個網頁不是由一個網址構成\n",
        "      - 隱藏網址\n",
        "  - Step of 爬蟲\n",
        "    1. 檢查原始碼(找到第一個問題:網址列)\n",
        "      - F12/網路\n",
        "        - type ...\n",
        "        \n",
        "          Fetch/item/request url, preview\n",
        "      - 確認該網址的內容是你要的答案"
      ],
      "metadata": {
        "id": "_zTcXINYmwg3"
      }
    },
    {
      "cell_type": "code",
      "execution_count": null,
      "metadata": {
        "id": "ThQTUQ2Jmm7I"
      },
      "outputs": [],
      "source": []
    }
  ]
}
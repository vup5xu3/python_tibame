{
  "nbformat": 4,
  "nbformat_minor": 0,
  "metadata": {
    "colab": {
      "provenance": [],
      "authorship_tag": "ABX9TyMWeAi8Q8Xj+yk2IhsLTf3D",
      "include_colab_link": true
    },
    "kernelspec": {
      "name": "python3",
      "display_name": "Python 3"
    },
    "language_info": {
      "name": "python"
    }
  },
  "cells": [
    {
      "cell_type": "markdown",
      "metadata": {
        "id": "view-in-github",
        "colab_type": "text"
      },
      "source": [
        "<a href=\"https://colab.research.google.com/github/vup5xu3/python_tibame/blob/main/20241230_%E8%BF%B4%E5%9C%88.ipynb\" target=\"_parent\"><img src=\"https://colab.research.google.com/assets/colab-badge.svg\" alt=\"Open In Colab\"/></a>"
      ]
    },
    {
      "cell_type": "markdown",
      "source": [
        "### 迴圈 - 重複\n",
        "  - 要玩很多次剪刀石頭布的話...\n",
        "  \n",
        "  1. 重複 n 次\n",
        "    - 從0數到n-1次\n",
        "      - 初始 及 計數: i = 0\n",
        "      - i+1 直到 i < 10\n",
        "      ```python\n",
        "      for i in range(10):\n",
        "        ...\n",
        "      i = 0\n",
        "      while i < 10:\n",
        "        i += 1\n",
        "      ```\n",
        "    - 從n數到1次\n",
        "      - **不要動判斷**\n",
        "      ```python\n",
        "      i = 0\n",
        "      while i < 10:\n",
        "        print(10-i)\n",
        "        i += 1\n",
        "      ```\n",
        "    - 印 1 3 5 7....\n",
        "      - 乘法 0 1 2 3 *2 > 0 2 4 6\n",
        "      - 間隔 2\n",
        "      ```python\n",
        "      i = 0\n",
        "      while i < 10:\n",
        "        print((i*2)+1)\n",
        "        i += 1\n",
        "      ```"
      ],
      "metadata": {
        "id": "5mGSi7ZcHtbR"
      }
    },
    {
      "cell_type": "code",
      "execution_count": 2,
      "metadata": {
        "colab": {
          "base_uri": "https://localhost:8080/"
        },
        "id": "02hm-KGUFYmH",
        "outputId": "d04d5ca8-9782-4d3e-924b-8935a3716e5b"
      },
      "outputs": [
        {
          "output_type": "stream",
          "name": "stdout",
          "text": [
            "10 1 50\n",
            "9 3 47\n",
            "8 5 44\n",
            "7 7 41\n",
            "6 9 38\n",
            "5 11 35\n",
            "4 13 32\n",
            "3 15 29\n",
            "2 17 26\n",
            "1 19 23\n"
          ]
        }
      ],
      "source": [
        "i = 0\n",
        "while i < 10:\n",
        "  print(10-i,\n",
        "     (i*2)+1,\n",
        "     #50 47 44\n",
        "     50-(3*i))\n",
        "  i += 1"
      ]
    },
    {
      "cell_type": "code",
      "source": [
        "\"\"\"\n",
        "O\n",
        "OO\n",
        "OOO\n",
        "OOOO\n",
        "\"\"\"\n",
        "i = 0\n",
        "while i < 10:\n",
        "  print((i+1) * \"O\")\n",
        "  i += 1"
      ],
      "metadata": {
        "colab": {
          "base_uri": "https://localhost:8080/"
        },
        "id": "UCH6g0xUaWxh",
        "outputId": "06994323-c2fa-4948-c2c8-46a8e6847a55"
      },
      "execution_count": 6,
      "outputs": [
        {
          "output_type": "stream",
          "name": "stdout",
          "text": [
            "O\n",
            "OO\n",
            "OOO\n",
            "OOOO\n",
            "OOOOO\n",
            "OOOOOO\n",
            "OOOOOOO\n",
            "OOOOOOOO\n",
            "OOOOOOOOO\n",
            "OOOOOOOOOO\n"
          ]
        }
      ]
    },
    {
      "cell_type": "code",
      "source": [
        "\"\"\"\n",
        "....O\n",
        "...OO\n",
        "..OOO\n",
        ".OOOO\n",
        "OOOOO\n",
        "\"\"\"\n",
        "# 不良示範\n",
        "i = 0\n",
        "while i < 10:\n",
        "  print((\".\" * (10-i-1)+ \"O\" * (i+1)))\n",
        "  i += 1\n",
        "\n",
        "print(\"--------------\")\n",
        "\n",
        "# 優化\n",
        "height = 10\n",
        "i = 0\n",
        "lsing, rsing = \".\",\"O\"\n",
        "while i < height:\n",
        "  lcount = height - i - 1\n",
        "  rcount = i + 1\n",
        "\n",
        "  print(lsing * lcount +\n",
        "     rsing * rcount)\n",
        "\n",
        "  i += 1\n"
      ],
      "metadata": {
        "colab": {
          "base_uri": "https://localhost:8080/"
        },
        "id": "Rs3_380bcJln",
        "outputId": "b9070145-3e53-4aee-9ca0-9fa00d4267c9"
      },
      "execution_count": 12,
      "outputs": [
        {
          "output_type": "stream",
          "name": "stdout",
          "text": [
            ".........O\n",
            "........OO\n",
            ".......OOO\n",
            "......OOOO\n",
            ".....OOOOO\n",
            "....OOOOOO\n",
            "...OOOOOOO\n",
            "..OOOOOOOO\n",
            ".OOOOOOOOO\n",
            "OOOOOOOOOO\n",
            "--------------\n",
            ".........O\n",
            "........OO\n",
            ".......OOO\n",
            "......OOOO\n",
            ".....OOOOO\n",
            "....OOOOOO\n",
            "...OOOOOOO\n",
            "..OOOOOOOO\n",
            ".OOOOOOOOO\n",
            "OOOOOOOOOO\n"
          ]
        }
      ]
    },
    {
      "cell_type": "code",
      "source": [
        "# 變化\n",
        "height = 10\n",
        "i = 0\n",
        "lsing, rsing = \".\",\"O\"\n",
        "while i < height:\n",
        "  lcount = i\n",
        "  rcount = height - i\n",
        "\n",
        "  line = lsing * lcount + rsing * rcount\n",
        "  print(line)\n",
        "\n",
        "  i += 1"
      ],
      "metadata": {
        "colab": {
          "base_uri": "https://localhost:8080/"
        },
        "id": "BEVXH9uKgFjF",
        "outputId": "c36e6dd7-857f-4e4a-a45c-093676c65b05"
      },
      "execution_count": 14,
      "outputs": [
        {
          "output_type": "stream",
          "name": "stdout",
          "text": [
            "OOOOOOOOOO\n",
            ".OOOOOOOOO\n",
            "..OOOOOOOO\n",
            "...OOOOOOO\n",
            "....OOOOOO\n",
            ".....OOOOO\n",
            "......OOOO\n",
            ".......OOO\n",
            "........OO\n",
            ".........O\n"
          ]
        }
      ]
    },
    {
      "cell_type": "code",
      "source": [
        "## 練習\n",
        "\"\"\"\n",
        "OOOOOOO\n",
        ".OOOOO.\n",
        "..OOO..\n",
        "...O...\n",
        "\"\"\"\n",
        "height = 10\n",
        "i = 0\n",
        "lrsing, msing = \".\",\"O\"\n",
        "while i < height:\n",
        "  # 3層第一列是7, 4層第一列是7..所以第一列跟層數的關係為: n*2-1\n",
        "  mcount = (height * 2 - 1) - 2 * i\n",
        "  lrcount = i\n",
        "\n",
        "  line = lrsing * lrcount + msing * mcount + lrsing * lrcount\n",
        "  print(line)\n",
        "\n",
        "  i += 1\n"
      ],
      "metadata": {
        "colab": {
          "base_uri": "https://localhost:8080/"
        },
        "id": "9gX21_nshPFf",
        "outputId": "728bb7c2-ca98-40ee-adf3-9adeb95b254e"
      },
      "execution_count": 19,
      "outputs": [
        {
          "output_type": "stream",
          "name": "stdout",
          "text": [
            "OOOOOOOOOOOOOOOOOOO\n",
            ".OOOOOOOOOOOOOOOOO.\n",
            "..OOOOOOOOOOOOOOO..\n",
            "...OOOOOOOOOOOOO...\n",
            "....OOOOOOOOOOO....\n",
            ".....OOOOOOOOO.....\n",
            "......OOOOOOO......\n",
            ".......OOOOO.......\n",
            "........OOO........\n",
            ".........O.........\n"
          ]
        }
      ]
    },
    {
      "cell_type": "code",
      "source": [
        "## 練習 !!!!!可擴充性!!!!\n",
        "\"\"\"\n",
        "OOOOOOOOO\n",
        ".XXXXXXX.\n",
        "..OOOOO..\n",
        "...XXX...\n",
        "....O....\n",
        "\"\"\"\n",
        "\n",
        "height = 10\n",
        "i = 0\n",
        "# U+1F33B。在 Python 中，需要使用 \\U0001F33B\n",
        "lrsing = \"\\U0001F33B\" #\"🌻\"\n",
        "# 如果有很多種符號在替換\n",
        "sings = [\"🚻\",\"🚺\",\"🚹\",'\\u25A60'] #\\u25A6 ▦\n",
        "\n",
        "while i < height:\n",
        "\n",
        "  # 3層第一列是7, 4層第一列是7..所以第一列跟層數的關係為: n*2-1\n",
        "  mcount = (height * 2 - 1) - 2 * i\n",
        "  lrcount = i\n",
        "\n",
        "  # 用符號列表的長度來 取餘，找到你要哪個符號!!!!!\n",
        "  msing = sings[i%len(sings)]\n",
        "\n",
        "\n",
        "  line = lrsing * lrcount + msing * mcount + lrsing * lrcount\n",
        "  print(line)\n",
        "\n",
        "  i += 1\n"
      ],
      "metadata": {
        "colab": {
          "base_uri": "https://localhost:8080/"
        },
        "id": "hzvUgJmrmtyQ",
        "outputId": "c2f50238-bee5-4341-afe2-bc33695b32d3"
      },
      "execution_count": 45,
      "outputs": [
        {
          "output_type": "stream",
          "name": "stdout",
          "text": [
            "🚻🚻🚻🚻🚻🚻🚻🚻🚻🚻🚻🚻🚻🚻🚻🚻🚻🚻🚻\n",
            "🌻🚺🚺🚺🚺🚺🚺🚺🚺🚺🚺🚺🚺🚺🚺🚺🚺🚺🌻\n",
            "🌻🌻🚹🚹🚹🚹🚹🚹🚹🚹🚹🚹🚹🚹🚹🚹🚹🌻🌻\n",
            "🌻🌻🌻▦0▦0▦0▦0▦0▦0▦0▦0▦0▦0▦0▦0▦0🌻🌻🌻\n",
            "🌻🌻🌻🌻🚻🚻🚻🚻🚻🚻🚻🚻🚻🚻🚻🌻🌻🌻🌻\n",
            "🌻🌻🌻🌻🌻🚺🚺🚺🚺🚺🚺🚺🚺🚺🌻🌻🌻🌻🌻\n",
            "🌻🌻🌻🌻🌻🌻🚹🚹🚹🚹🚹🚹🚹🌻🌻🌻🌻🌻🌻\n",
            "🌻🌻🌻🌻🌻🌻🌻▦0▦0▦0▦0▦0🌻🌻🌻🌻🌻🌻🌻\n",
            "🌻🌻🌻🌻🌻🌻🌻🌻🚻🚻🚻🌻🌻🌻🌻🌻🌻🌻🌻\n",
            "🌻🌻🌻🌻🌻🌻🌻🌻🌻🚺🌻🌻🌻🌻🌻🌻🌻🌻🌻\n"
          ]
        }
      ]
    },
    {
      "cell_type": "markdown",
      "source": [
        "### 迴圈 Part 2 : 全域變數概念\n",
        "  - 單一動作重複做，先思考單一步驟\n",
        "  - 記憶體的迴圈，意義體要取名字放回圈外\n",
        "    - 全域變數概念\n"
      ],
      "metadata": {
        "id": "JaXewjckFs-P"
      }
    },
    {
      "cell_type": "code",
      "source": [
        "total = 0\n",
        "\n",
        "i = 0\n",
        "while i < 10:\n",
        "  total += i + 1\n",
        "  print(total)\n",
        "  i += 1\n",
        "print(\"最後值: \",total)"
      ],
      "metadata": {
        "id": "mSOLJ1PAGS23"
      },
      "execution_count": null,
      "outputs": []
    },
    {
      "cell_type": "code",
      "source": [
        "# 練習 取商取餘 找a/b\n",
        "'''\n",
        "指定: a < b\n",
        "目標: a/b 10位小數\n",
        "步驟:\n",
        " - 取商 找餘 一步一步來\n",
        " - 2/7:\n",
        "  - 0 餘 2\n",
        "  - 0.2 餘 0.06 ....重複步驟\n",
        "'''\n",
        "\n",
        "a = 2\n",
        "b = 7\n",
        "ans=\"0.\"\n",
        "\n",
        "i = 0\n",
        "while i < 10:\n",
        "  # 2 -> 10 補0\n",
        "  a = a * 10\n",
        "  # 20 // 7 = 2 取商\n",
        "  ans += str(a // b)\n",
        "  # 20 % 7 取餘\n",
        "  a = a % b\n",
        "  print(ans)\n",
        "  i += 1\n",
        "print(\"end: \",ans)"
      ],
      "metadata": {
        "colab": {
          "base_uri": "https://localhost:8080/"
        },
        "id": "efTwWNr1HjIh",
        "outputId": "709b9ee9-50ff-4008-d837-75fbf708213a"
      },
      "execution_count": 54,
      "outputs": [
        {
          "output_type": "stream",
          "name": "stdout",
          "text": [
            "0.2\n",
            "0.28\n",
            "0.285\n",
            "0.2857\n",
            "0.28571\n",
            "0.285714\n",
            "0.2857142\n",
            "0.28571428\n",
            "0.285714285\n",
            "0.2857142857\n",
            "end:  0.2857142857\n"
          ]
        }
      ]
    },
    {
      "cell_type": "code",
      "source": [
        "# 練習字串取值大小寫\n",
        "'''\n",
        "題目: 統計字串內有多少個 小寫 字母\n",
        "步驟:\n",
        "  - 計算小寫、大寫 lcase, ucase\n",
        "  - A-Z = chr(65)-chr(90) | ord(\"A\")=90\n",
        "  - a-z = chr(97)-chr(122)\n",
        "'''\n",
        "s = 'skji  8..&&IUYhh0837'\n",
        "lcase, ucase = 0, 0\n",
        "\n",
        "i = 0\n",
        "while i < len(s):\n",
        "  n = ord(s[i])\n",
        "  if ord(\"A\") <= n <= ord(\"Z\"):\n",
        "      ucase += 1\n",
        "  elif ord(\"a\") <= n <= ord(\"z\"):\n",
        "      lcase += 1\n",
        "  i += 1\n",
        "\n",
        "print(\"String: [{}]\".format(s))\n",
        "print(\"lower case count: {}, Upper case count: {}\".format(lcase,ucase))"
      ],
      "metadata": {
        "colab": {
          "base_uri": "https://localhost:8080/"
        },
        "id": "Vv8CR768LsBj",
        "outputId": "0da0a97f-c27a-414e-800c-106cc54a207c"
      },
      "execution_count": 62,
      "outputs": [
        {
          "output_type": "stream",
          "name": "stdout",
          "text": [
            "String: [skji  8..&&IUYhh0837]\n",
            "lower case count: 6, Upper case count: 3\n"
          ]
        }
      ]
    },
    {
      "cell_type": "code",
      "source": [
        "# 練習\n",
        "'''\n",
        "題目: 統計每一個字母各自有幾個，並列出對應\n",
        "步驟:\n",
        "  - list\n",
        "  - chr()\n",
        "'''\n",
        "s = 'skji  8..&&IUYhh0837'\n",
        "lcase, ucase = 0, 0\n",
        "l_list=[0] * 26\n",
        "u_list=[0] * 26\n",
        "\n",
        "i = 0\n",
        "while i < len(s):\n",
        "  n = ord(s[i])\n",
        "  if ord(\"A\") <= n <= ord(\"Z\"):\n",
        "      ucase += 1\n",
        "      n = n - ord(\"A\")\n",
        "      u_list[n] = u_list[n] + 1\n",
        "  elif ord(\"a\") <= n <= ord(\"z\"):\n",
        "      lcase += 1\n",
        "      n = n - ord(\"a\")\n",
        "      l_list[n] = l_list[n] + 1\n",
        "  i += 1\n",
        "\n",
        "print(\"String: [{}]\".format(s))\n",
        "print(\"lower case count: {}, Upper case count: {}\".format(lcase,ucase))\n",
        "print(\"lower case count: \",l_list)\n",
        "print(\"Upper case count: \",u_list)\n",
        "\n",
        "# 印出轉換後的 chr ord 相互轉換應用\n",
        "i = 0\n",
        "while i <len(l_list):\n",
        "  # 指定AZ,az\n",
        "  c1, c2 = chr(i + ord(\"A\")),chr(i + ord(\"a\"))\n",
        "  # 給予相對應字母 之前算出來的數字\n",
        "  n1 ,n2 = u_list[i],l_list[i]\n",
        "  print(\"{}:{}, {}:{}\".format(c1,n1,c2,n2))\n",
        "  i += 1"
      ],
      "metadata": {
        "colab": {
          "base_uri": "https://localhost:8080/"
        },
        "id": "CTndB9zGRMcS",
        "outputId": "faa8571b-e633-4ca3-b224-19092ec65877"
      },
      "execution_count": 74,
      "outputs": [
        {
          "output_type": "stream",
          "name": "stdout",
          "text": [
            "String: [skji  8..&&IUYhh0837]\n",
            "lower case count: 6, Upper case count: 3\n",
            "lower case count:  [0, 0, 0, 0, 0, 0, 0, 2, 1, 1, 1, 0, 0, 0, 0, 0, 0, 0, 1, 0, 0, 0, 0, 0, 0, 0]\n",
            "Upper case count:  [0, 0, 0, 0, 0, 0, 0, 0, 1, 0, 0, 0, 0, 0, 0, 0, 0, 0, 0, 0, 1, 0, 0, 0, 1, 0]\n",
            "A:0, a:0\n",
            "B:0, b:0\n",
            "C:0, c:0\n",
            "D:0, d:0\n",
            "E:0, e:0\n",
            "F:0, f:0\n",
            "G:0, g:0\n",
            "H:0, h:2\n",
            "I:1, i:1\n",
            "J:0, j:1\n",
            "K:0, k:1\n",
            "L:0, l:0\n",
            "M:0, m:0\n",
            "N:0, n:0\n",
            "O:0, o:0\n",
            "P:0, p:0\n",
            "Q:0, q:0\n",
            "R:0, r:0\n",
            "S:0, s:1\n",
            "T:0, t:0\n",
            "U:1, u:0\n",
            "V:0, v:0\n",
            "W:0, w:0\n",
            "X:0, x:0\n",
            "Y:1, y:0\n",
            "Z:0, z:0\n"
          ]
        }
      ]
    },
    {
      "cell_type": "code",
      "source": [
        "# 練習 計算圓面積(積分概念)\n",
        "'''\n",
        "題目:\n",
        "  微積分: XY座標 細切，算面積\n",
        "  圓半徑為1 : x (-1,0) (1,0)\n",
        "  x 細切 100 份, 2/100 = 0.02\n",
        "  - -1,0 -0.98... (-1+(0.02)*i,0)\n",
        "  - i = 99, (0.98,0)\n",
        "  - 直角三角形面積 x**2 + y**2 = r**2, r=1\n",
        "  - x**2 + y**2 = 1\n",
        "想法:\n",
        "  - 有已知的 x = -1 + (2/100)* i (-1~0.98)\n",
        "  - 取得 x 座標的 y 高度\n",
        "  - y**2 = 1 - x**2\n",
        "  - y = (1-x**2)**0.5\n",
        "  - 長方形 = y*0.02 = ((1-x)**0.5)*0.02\n",
        "'''\n",
        "# x 最左邊 右邊座標\n",
        "x_left, x_right= -1, 1\n",
        "# 分成幾份\n",
        "part = 100\n",
        "# 每一part x 有多長\n",
        "interval = (x_right - x_left) / part\n",
        "\n",
        "# 面積加總\n",
        "total = 0\n",
        "# 積分，加總每一小長方\n",
        "i = 0\n",
        "while i < part:\n",
        "  # 每一part\n",
        "  x = x_left + interval * i\n",
        "  # 算 y 長度\n",
        "  y = 2*((1-x**2)**0.5)\n",
        "  # 面積\n",
        "  area = interval * y\n",
        "  total = total + area\n",
        "  i += 1\n",
        "\n",
        "print(total)"
      ],
      "metadata": {
        "colab": {
          "base_uri": "https://localhost:8080/"
        },
        "id": "IL_Ib8C6TCII",
        "outputId": "a43b2a1f-9ab2-4598-deea-efdc41743686"
      },
      "execution_count": 77,
      "outputs": [
        {
          "output_type": "stream",
          "name": "stdout",
          "text": [
            "3.138268511098501\n"
          ]
        }
      ]
    }
  ]
}